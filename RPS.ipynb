{
  "nbformat": 4,
  "nbformat_minor": 0,
  "metadata": {
    "colab": {
      "name": "RPS.ipynb",
      "provenance": []
    },
    "kernelspec": {
      "name": "python3",
      "display_name": "Python 3"
    },
    "language_info": {
      "name": "python"
    }
  },
  "cells": [
    {
      "cell_type": "code",
      "metadata": {
        "id": "3IbUQXFWmJJ5"
      },
      "source": [
        "import random"
      ],
      "execution_count": 1,
      "outputs": []
    },
    {
      "cell_type": "code",
      "metadata": {
        "id": "4tXrFDwQmKxa"
      },
      "source": [
        "def play():\n",
        "    print(\"**Rock Paper Scissor Game!!**\\n \\n\")\n",
        "    print(\"Enter Your Choice!?\\n\")\n",
        "    user = input(\"'r' for Rock 'p' for Paper and 's' for Scissors:\\n\")\n",
        "    AI = random.choice(['R','P','S']).lower()\n",
        "    if wonloss(user,AI):\n",
        "        return \"You Won!!Congrats\"\n",
        "    elif user==AI:\n",
        "      return \"Tie!!\"\n",
        "    \n",
        "    return\"Sorry..You Lost\""
      ],
      "execution_count": 22,
      "outputs": []
    },
    {
      "cell_type": "code",
      "metadata": {
        "id": "kscavXC3obxx"
      },
      "source": [
        "def wonloss(player,computer):\n",
        "    if(player =='R' and computer =='S') or (player =='S' and computer =='P') or (player =='P' and computer =='R'):\n",
        "        return True"
      ],
      "execution_count": 23,
      "outputs": []
    },
    {
      "cell_type": "code",
      "metadata": {
        "colab": {
          "base_uri": "https://localhost:8080/"
        },
        "id": "lE_Yj49InJq1",
        "outputId": "92b08956-ebce-464c-dc3e-c7bd22bdf1c2"
      },
      "source": [
        "print(play())"
      ],
      "execution_count": 24,
      "outputs": [
        {
          "output_type": "stream",
          "text": [
            "**Rock Paper Scissor Game!!**\n",
            " \n",
            "\n",
            "Enter Your Choice!?\n",
            "\n",
            "'r' for Rock 'p' for Paper and 's' for Scissors:\n",
            "R\n",
            "Sorry..You Lost\n"
          ],
          "name": "stdout"
        }
      ]
    },
    {
      "cell_type": "code",
      "metadata": {
        "id": "923TBBqMoefL"
      },
      "source": [
        ""
      ],
      "execution_count": null,
      "outputs": []
    }
  ]
}